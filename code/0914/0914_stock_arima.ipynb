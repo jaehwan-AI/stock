{
 "cells": [
  {
   "cell_type": "code",
   "execution_count": 18,
   "metadata": {
    "ExecuteTime": {
     "end_time": "2020-09-10T23:16:27.056606Z",
     "start_time": "2020-09-10T23:16:27.049631Z"
    }
   },
   "outputs": [],
   "source": [
    "import numpy as np\n",
    "import pandas as pd\n",
    "import matplotlib.pyplot as plt\n",
    "import re\n",
    "import warnings\n",
    "warnings.filterwarnings('ignore')\n",
    "\n",
    "from statsmodels.graphics.tsaplots import plot_acf, plot_pacf\n",
    "from statsmodels.tsa.stattools import adfuller\n",
    "from statsmodels.tsa.arima_model import ARIMA"
   ]
  },
  {
   "cell_type": "code",
   "execution_count": 34,
   "metadata": {
    "ExecuteTime": {
     "end_time": "2020-09-10T23:24:20.409405Z",
     "start_time": "2020-09-10T23:24:20.379986Z"
    }
   },
   "outputs": [
    {
     "name": "stdout",
     "output_type": "stream",
     "text": [
      "<class 'pandas.core.frame.DataFrame'>\n",
      "DatetimeIndex: 560 entries, 2018-05-04 to 2020-08-12\n",
      "Data columns (total 1 columns):\n",
      " #   Column  Non-Null Count  Dtype\n",
      "---  ------  --------------  -----\n",
      " 0   close   560 non-null    int64\n",
      "dtypes: int64(1)\n",
      "memory usage: 8.8 KB\n",
      "None\n",
      "\n",
      "<class 'pandas.core.frame.DataFrame'>\n",
      "DatetimeIndex: 20 entries, 2020-08-13 to 2020-09-10\n",
      "Data columns (total 1 columns):\n",
      " #   Column  Non-Null Count  Dtype\n",
      "---  ------  --------------  -----\n",
      " 0   close   20 non-null     int64\n",
      "dtypes: int64(1)\n",
      "memory usage: 320.0 bytes\n",
      "None\n"
     ]
    }
   ],
   "source": [
    "samsung = pd.read_csv('samsung0910.csv')\n",
    "samsung = samsung[::-1]\n",
    "samsung = samsung.drop(['시가','고가','저가','거래량','등락률'], axis=1)\n",
    "samsung['종가'] = samsung['종가'].map(lambda x: int(re.sub(r',', '', x)))\n",
    "test = samsung.iloc[-20:, :]\n",
    "samsung = samsung.iloc[:-20, :]\n",
    "test.reset_index(drop=True, inplace=True)\n",
    "samsung.reset_index(drop=True, inplace=True)\n",
    "samsung.columns = ['date', 'close']\n",
    "test.columns = ['date', 'close']\n",
    "\n",
    "samsung['date'] = pd.to_datetime(samsung.date, format='%Y-%m-%d')\n",
    "samsung = samsung.set_index('date')\n",
    "print(samsung.info())\n",
    "print()\n",
    "test['date'] = pd.to_datetime(test.date, format='%Y-%m-%d')\n",
    "test = test.set_index('date')\n",
    "print(test.info())"
   ]
  },
  {
   "cell_type": "code",
   "execution_count": 35,
   "metadata": {
    "ExecuteTime": {
     "end_time": "2020-09-10T23:24:29.632834Z",
     "start_time": "2020-09-10T23:24:29.442026Z"
    }
   },
   "outputs": [
    {
     "data": {
      "image/png": "[encoded data removed]",
      "text/plain": [
       "<Figure size 432x288 with 1 Axes>"
      ]
     },
     "metadata": {
      "needs_background": "light"
     },
     "output_type": "display_data"
    },
    {
     "data": {
      "image/png": "[encoded data removed]",
      "text/plain": [
       "<Figure size 432x288 with 1 Axes>"
      ]
     },
     "metadata": {
      "needs_background": "light"
     },
     "output_type": "display_data"
    }
   ],
   "source": [
    "plot_acf(samsung) # ACF plot\n",
    "plot_pacf(samsung) # PACF plot\n",
    "plt.show()"
   ]
  },
  {
   "cell_type": "code",
   "execution_count": 36,
   "metadata": {
    "ExecuteTime": {
     "end_time": "2020-09-10T23:24:32.367515Z",
     "start_time": "2020-09-10T23:24:32.322265Z"
    }
   },
   "outputs": [
    {
     "name": "stdout",
     "output_type": "stream",
     "text": [
      "원 데이터 ADF Statistic : -1.6517\n",
      "원 데이터 p-value :  0.4562\n",
      "1차 차분 ADF Statistic : -15.2293\n",
      "1차 차분 p-value :  0.0000\n"
     ]
    }
   ],
   "source": [
    "y = samsung['close']\n",
    "y_1diff = samsung.diff().dropna()['close']\n",
    "result = adfuller(y)\n",
    "print(f'원 데이터 ADF Statistic : {result[0] : .4f}')\n",
    "print(f'원 데이터 p-value : {result[1] : .4f}')\n",
    "result = adfuller(y_1diff)\n",
    "print(f'1차 차분 ADF Statistic : {result[0] : .4f}')\n",
    "print(f'1차 차분 p-value : {result[1] : .4f}')"
   ]
  },
  {
   "cell_type": "code",
   "execution_count": 42,
   "metadata": {
    "ExecuteTime": {
     "end_time": "2020-09-10T23:25:04.103217Z",
     "start_time": "2020-09-10T23:25:04.049263Z"
    }
   },
   "outputs": [
    {
     "name": "stdout",
     "output_type": "stream",
     "text": [
      "                             ARIMA Model Results                              \n",
      "==============================================================================\n",
      "Dep. Variable:                D.close   No. Observations:                  559\n",
      "Model:                 ARIMA(1, 1, 0)   Log Likelihood               -4565.487\n",
      "Method:                       css-mle   S.D. of innovations            852.610\n",
      "Date:                Fri, 11 Sep 2020   AIC                           9136.975\n",
      "Time:                        08:25:04   BIC                           9149.953\n",
      "Sample:                             1   HQIC                          9142.043\n",
      "                                                                              \n",
      "=================================================================================\n",
      "                    coef    std err          z      P>|z|      [0.025      0.975]\n",
      "---------------------------------------------------------------------------------\n",
      "const            12.6847     35.855      0.354      0.724     -57.590      82.960\n",
      "ar.L1.D.close    -0.0058      0.042     -0.136      0.892      -0.089       0.077\n",
      "                                    Roots                                    \n",
      "=============================================================================\n",
      "                  Real          Imaginary           Modulus         Frequency\n",
      "-----------------------------------------------------------------------------\n",
      "AR.1         -173.4036           +0.0000j          173.4036            0.5000\n",
      "-----------------------------------------------------------------------------\n"
     ]
    }
   ],
   "source": [
    "model = ARIMA(samsung, order=(1,1,0)) # freq='D'\n",
    "model_fit = model.fit()\n",
    "print(model_fit.summary())"
   ]
  },
  {
   "cell_type": "code",
   "execution_count": 43,
   "metadata": {
    "ExecuteTime": {
     "end_time": "2020-09-10T23:25:12.169408Z",
     "start_time": "2020-09-10T23:25:11.286727Z"
    }
   },
   "outputs": [
    {
     "data": {
      "image/png": "[encoded data removed]",
      "text/plain": [
       "<Figure size 432x288 with 1 Axes>"
      ]
     },
     "metadata": {
      "needs_background": "light"
     },
     "output_type": "display_data"
    }
   ],
   "source": [
    "# rolling forecast\n",
    "history = [x for x in samsung['close']]\n",
    "predictions = []\n",
    "for i in range(len(test)):\n",
    "    model = ARIMA(history, order=(1,1,0))\n",
    "    model_fit = model.fit()\n",
    "    output = model_fit.forecast()\n",
    "    yhat = output[0]\n",
    "    predictions.append(yhat)\n",
    "    tmp = test['close'][i]\n",
    "    history.append(tmp)\n",
    "\n",
    "plt.plot(test.index, test['close'])\n",
    "plt.plot(test.index, predictions, color='red')\n",
    "plt.show()"
   ]
  },
  {
   "cell_type": "code",
   "execution_count": 44,
   "metadata": {
    "ExecuteTime": {
     "end_time": "2020-09-10T23:25:49.501583Z",
     "start_time": "2020-09-10T23:25:46.434012Z"
    }
   },
   "outputs": [
    {
     "data": {
      "text/html": [
       "<div>\n",
       "<style scoped>\n",
       "    .dataframe tbody tr th:only-of-type {\n",
       "        vertical-align: middle;\n",
       "    }\n",
       "\n",
       "    .dataframe tbody tr th {\n",
       "        vertical-align: top;\n",
       "    }\n",
       "\n",
       "    .dataframe thead th {\n",
       "        text-align: right;\n",
       "    }\n",
       "</style>\n",
       "<table border=\"1\" class=\"dataframe\">\n",
       "  <thead>\n",
       "    <tr style=\"text-align: right;\">\n",
       "      <th></th>\n",
       "      <th>order</th>\n",
       "      <th>AIC</th>\n",
       "    </tr>\n",
       "  </thead>\n",
       "  <tbody>\n",
       "    <tr>\n",
       "      <th>25</th>\n",
       "      <td>p2 d2 q1</td>\n",
       "      <td>9125.802942</td>\n",
       "    </tr>\n",
       "    <tr>\n",
       "      <th>7</th>\n",
       "      <td>p0 d2 q1</td>\n",
       "      <td>9126.428990</td>\n",
       "    </tr>\n",
       "    <tr>\n",
       "      <th>26</th>\n",
       "      <td>p2 d2 q2</td>\n",
       "      <td>9127.375880</td>\n",
       "    </tr>\n",
       "    <tr>\n",
       "      <th>17</th>\n",
       "      <td>p1 d2 q2</td>\n",
       "      <td>9128.318261</td>\n",
       "    </tr>\n",
       "    <tr>\n",
       "      <th>16</th>\n",
       "      <td>p1 d2 q1</td>\n",
       "      <td>9128.403325</td>\n",
       "    </tr>\n",
       "    <tr>\n",
       "      <th>8</th>\n",
       "      <td>p0 d2 q2</td>\n",
       "      <td>9128.407387</td>\n",
       "    </tr>\n",
       "    <tr>\n",
       "      <th>5</th>\n",
       "      <td>p0 d1 q2</td>\n",
       "      <td>9133.987853</td>\n",
       "    </tr>\n",
       "    <tr>\n",
       "      <th>21</th>\n",
       "      <td>p2 d1 q0</td>\n",
       "      <td>9134.329970</td>\n",
       "    </tr>\n",
       "    <tr>\n",
       "      <th>3</th>\n",
       "      <td>p0 d1 q0</td>\n",
       "      <td>9134.993376</td>\n",
       "    </tr>\n",
       "    <tr>\n",
       "      <th>14</th>\n",
       "      <td>p1 d1 q2</td>\n",
       "      <td>9135.720874</td>\n",
       "    </tr>\n",
       "    <tr>\n",
       "      <th>22</th>\n",
       "      <td>p2 d1 q1</td>\n",
       "      <td>9135.909003</td>\n",
       "    </tr>\n",
       "    <tr>\n",
       "      <th>13</th>\n",
       "      <td>p1 d1 q1</td>\n",
       "      <td>9136.916366</td>\n",
       "    </tr>\n",
       "    <tr>\n",
       "      <th>12</th>\n",
       "      <td>p1 d1 q0</td>\n",
       "      <td>9136.974804</td>\n",
       "    </tr>\n",
       "    <tr>\n",
       "      <th>4</th>\n",
       "      <td>p0 d1 q1</td>\n",
       "      <td>9136.977652</td>\n",
       "    </tr>\n",
       "    <tr>\n",
       "      <th>23</th>\n",
       "      <td>p2 d1 q2</td>\n",
       "      <td>9137.671789</td>\n",
       "    </tr>\n",
       "    <tr>\n",
       "      <th>11</th>\n",
       "      <td>p1 d0 q2</td>\n",
       "      <td>9152.437041</td>\n",
       "    </tr>\n",
       "    <tr>\n",
       "      <th>9</th>\n",
       "      <td>p1 d0 q0</td>\n",
       "      <td>9154.202317</td>\n",
       "    </tr>\n",
       "    <tr>\n",
       "      <th>20</th>\n",
       "      <td>p2 d0 q2</td>\n",
       "      <td>9154.301026</td>\n",
       "    </tr>\n",
       "    <tr>\n",
       "      <th>18</th>\n",
       "      <td>p2 d0 q0</td>\n",
       "      <td>9156.144440</td>\n",
       "    </tr>\n",
       "    <tr>\n",
       "      <th>10</th>\n",
       "      <td>p1 d0 q1</td>\n",
       "      <td>9156.148574</td>\n",
       "    </tr>\n",
       "    <tr>\n",
       "      <th>19</th>\n",
       "      <td>p2 d0 q1</td>\n",
       "      <td>9156.208333</td>\n",
       "    </tr>\n",
       "    <tr>\n",
       "      <th>24</th>\n",
       "      <td>p2 d2 q0</td>\n",
       "      <td>9271.884199</td>\n",
       "    </tr>\n",
       "    <tr>\n",
       "      <th>15</th>\n",
       "      <td>p1 d2 q0</td>\n",
       "      <td>9311.754560</td>\n",
       "    </tr>\n",
       "    <tr>\n",
       "      <th>6</th>\n",
       "      <td>p0 d2 q0</td>\n",
       "      <td>9508.893643</td>\n",
       "    </tr>\n",
       "    <tr>\n",
       "      <th>2</th>\n",
       "      <td>p0 d0 q2</td>\n",
       "      <td>10099.467284</td>\n",
       "    </tr>\n",
       "    <tr>\n",
       "      <th>1</th>\n",
       "      <td>p0 d0 q1</td>\n",
       "      <td>10527.671737</td>\n",
       "    </tr>\n",
       "    <tr>\n",
       "      <th>0</th>\n",
       "      <td>p0 d0 q0</td>\n",
       "      <td>11163.626410</td>\n",
       "    </tr>\n",
       "  </tbody>\n",
       "</table>\n",
       "</div>"
      ],
      "text/plain": [
       "       order           AIC\n",
       "25  p2 d2 q1   9125.802942\n",
       "7   p0 d2 q1   9126.428990\n",
       "26  p2 d2 q2   9127.375880\n",
       "17  p1 d2 q2   9128.318261\n",
       "16  p1 d2 q1   9128.403325\n",
       "8   p0 d2 q2   9128.407387\n",
       "5   p0 d1 q2   9133.987853\n",
       "21  p2 d1 q0   9134.329970\n",
       "3   p0 d1 q0   9134.993376\n",
       "14  p1 d1 q2   9135.720874\n",
       "22  p2 d1 q1   9135.909003\n",
       "13  p1 d1 q1   9136.916366\n",
       "12  p1 d1 q0   9136.974804\n",
       "4   p0 d1 q1   9136.977652\n",
       "23  p2 d1 q2   9137.671789\n",
       "11  p1 d0 q2   9152.437041\n",
       "9   p1 d0 q0   9154.202317\n",
       "20  p2 d0 q2   9154.301026\n",
       "18  p2 d0 q0   9156.144440\n",
       "10  p1 d0 q1   9156.148574\n",
       "19  p2 d0 q1   9156.208333\n",
       "24  p2 d2 q0   9271.884199\n",
       "15  p1 d2 q0   9311.754560\n",
       "6   p0 d2 q0   9508.893643\n",
       "2   p0 d0 q2  10099.467284\n",
       "1   p0 d0 q1  10527.671737\n",
       "0   p0 d0 q0  11163.626410"
      ]
     },
     "execution_count": 44,
     "metadata": {},
     "output_type": "execute_result"
    }
   ],
   "source": [
    "def auto_arima(data, order, sort='AIC'):\n",
    "    order_lst = []\n",
    "    aic_lst = []\n",
    "    for p in range(order[0]):\n",
    "        for d in range(order[1]):\n",
    "            for q in range(order[2]):\n",
    "                model = ARIMA(data, order=(p,d,q))\n",
    "                try:\n",
    "                    model_fit = model.fit()\n",
    "                    c_order = f'p{p} d{d} q{q}'\n",
    "                    aic = model_fit.aic\n",
    "                    order_lst.append(c_order)\n",
    "                    aic_lst.append(aic)\n",
    "                except:\n",
    "                    pass\n",
    "    result_auto = pd.DataFrame(list(zip(order_lst, aic_lst)), columns=['order', 'AIC'])\n",
    "    result_auto.sort_values(sort, inplace=True)\n",
    "    return result_auto\n",
    "\n",
    "result = auto_arima(samsung, [3,3,3])\n",
    "result"
   ]
  },
  {
   "cell_type": "code",
   "execution_count": 47,
   "metadata": {
    "ExecuteTime": {
     "end_time": "2020-09-10T23:26:11.803896Z",
     "start_time": "2020-09-10T23:26:11.744568Z"
    }
   },
   "outputs": [
    {
     "name": "stdout",
     "output_type": "stream",
     "text": [
      "                             ARIMA Model Results                              \n",
      "==============================================================================\n",
      "Dep. Variable:               D2.close   No. Observations:                  558\n",
      "Model:                 ARIMA(0, 2, 1)   Log Likelihood               -4560.991\n",
      "Method:                       css-mle   S.D. of innovations            853.849\n",
      "Date:                Fri, 11 Sep 2020   AIC                           9125.983\n",
      "Time:                        08:26:11   BIC                           9134.631\n",
      "Sample:                             2   HQIC                          9129.360\n",
      "                                                                              \n",
      "==================================================================================\n",
      "                     coef    std err          z      P>|z|      [0.025      0.975]\n",
      "----------------------------------------------------------------------------------\n",
      "ma.L1.D2.close    -0.9988      0.016    -63.020      0.000      -1.030      -0.968\n",
      "                                    Roots                                    \n",
      "=============================================================================\n",
      "                  Real          Imaginary           Modulus         Frequency\n",
      "-----------------------------------------------------------------------------\n",
      "MA.1            1.0012           +0.0000j            1.0012            0.0000\n",
      "-----------------------------------------------------------------------------\n"
     ]
    }
   ],
   "source": [
    "model = ARIMA(samsung, order=(0,2,1)) # freq='D'\n",
    "model_fit = model.fit(trend='nc')\n",
    "print(model_fit.summary())"
   ]
  },
  {
   "cell_type": "code",
   "execution_count": 48,
   "metadata": {
    "ExecuteTime": {
     "end_time": "2020-09-10T23:26:19.428803Z",
     "start_time": "2020-09-10T23:26:18.674015Z"
    }
   },
   "outputs": [
    {
     "data": {
      "image/png": "[encoded data removed]",
      "text/plain": [
       "<Figure size 432x288 with 1 Axes>"
      ]
     },
     "metadata": {
      "needs_background": "light"
     },
     "output_type": "display_data"
    }
   ],
   "source": [
    "# rolling forecast\n",
    "history = [x for x in samsung['close']]\n",
    "predictions = []\n",
    "for i in range(len(test)):\n",
    "    model = ARIMA(history, order=(0,2,1))\n",
    "    model_fit = model.fit(trend='nc')\n",
    "    output = model_fit.forecast()\n",
    "    yhat = output[0]\n",
    "    predictions.append(yhat)\n",
    "    tmp = test['close'][i]\n",
    "    history.append(tmp)\n",
    "\n",
    "plt.plot(test.index, test['close'])\n",
    "plt.plot(test.index, predictions, color='red')\n",
    "plt.show()"
   ]
  },
  {
   "cell_type": "code",
   "execution_count": 51,
   "metadata": {
    "ExecuteTime": {
     "end_time": "2020-09-10T23:27:50.583265Z",
     "start_time": "2020-09-10T23:27:50.575302Z"
    }
   },
   "outputs": [
    {
     "data": {
      "text/plain": [
       "(array([58411.77155128]),\n",
       " array([860.01483603]),\n",
       " array([[56726.17344649, 60097.36965607]]))"
      ]
     },
     "execution_count": 51,
     "metadata": {},
     "output_type": "execute_result"
    }
   ],
   "source": [
    "today = model_fit.forecast()\n",
    "today"
   ]
  }
 ],
 "metadata": {
  "kernelspec": {
   "display_name": "Tensorflow",
   "language": "python",
   "name": "tensorflow"
  },
  "language_info": {
   "codemirror_mode": {
    "name": "ipython",
    "version": 3
   },
   "file_extension": ".py",
   "mimetype": "text/x-python",
   "name": "python",
   "nbconvert_exporter": "python",
   "pygments_lexer": "ipython3",
   "version": "3.7.6"
  }
 },
 "nbformat": 4,
 "nbformat_minor": 4
}

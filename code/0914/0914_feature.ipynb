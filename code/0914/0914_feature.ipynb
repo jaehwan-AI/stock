{
 "cells": [
  {
   "cell_type": "code",
   "execution_count": 2,
   "metadata": {
    "ExecuteTime": {
     "end_time": "2020-09-10T22:17:01.645768Z",
     "start_time": "2020-09-10T22:16:57.017767Z"
    }
   },
   "outputs": [],
   "source": [
    "# library\n",
    "import numpy as np\n",
    "import pandas as pd\n",
    "import matplotlib.pyplot as plt\n",
    "\n",
    "from sklearn.preprocessing import StandardScaler, MinMaxScaler, RobustScaler\n",
    "from sklearn.decomposition import PCA\n",
    "\n",
    "from slice_ojh import split_stock, split_mm\n",
    "from sklearn.model_selection import train_test_split, TimeSeriesSplit\n",
    "\n",
    "from sklearn.ensemble import RandomForestRegressor, AdaBoostRegressor\n",
    "from xgboost import XGBRegressor\n",
    "from lightgbm import LGBMRegressor"
   ]
  },
  {
   "cell_type": "code",
   "execution_count": 38,
   "metadata": {
    "ExecuteTime": {
     "end_time": "2020-09-10T22:43:38.985636Z",
     "start_time": "2020-09-10T22:43:38.952856Z"
    }
   },
   "outputs": [],
   "source": [
    "x = np.load('x_data.npy', allow_pickle = 'True')\n",
    "y = np.load('y_data.npy', allow_pickle = 'True')"
   ]
  },
  {
   "cell_type": "code",
   "execution_count": 43,
   "metadata": {
    "ExecuteTime": {
     "end_time": "2020-09-10T22:44:47.056248Z",
     "start_time": "2020-09-10T22:44:47.052800Z"
    }
   },
   "outputs": [],
   "source": [
    "features=x[20:]\n",
    "labels=y[20:]"
   ]
  },
  {
   "cell_type": "code",
   "execution_count": 14,
   "metadata": {
    "ExecuteTime": {
     "end_time": "2020-09-10T22:20:56.321262Z",
     "start_time": "2020-09-10T22:20:56.314285Z"
    }
   },
   "outputs": [],
   "source": [
    "# data preprocess\n",
    "def prepro(data, method):\n",
    "    if method == 'minmax':\n",
    "        scaler = MinMaxScaler()\n",
    "        x = data.reshape(-1,1)\n",
    "        scaler.fit(x)\n",
    "        tmp = scaler.transform(x)\n",
    "        return np.squeeze(tmp, axis=1)\n",
    "    \n",
    "    if method == 'stand':\n",
    "        scaler = StandardScaler()\n",
    "        x = data.reshape(-1,1)\n",
    "        scaler.fit(x)\n",
    "        tmp = scaler.transform(x)\n",
    "        return np.squeeze(tmp, axis=1)\n",
    "    \n",
    "    if method == 'robust':\n",
    "        scaler = RobustScaler()\n",
    "        x = data.reshape(-1,1)\n",
    "        scaler.fit(x)\n",
    "        tmp = scaler.transform(x)\n",
    "        return np.squeeze(tmp, axis=1)"
   ]
  },
  {
   "cell_type": "code",
   "execution_count": 15,
   "metadata": {
    "ExecuteTime": {
     "end_time": "2020-09-10T22:20:56.739347Z",
     "start_time": "2020-09-10T22:20:56.724352Z"
    }
   },
   "outputs": [],
   "source": [
    "x_minmax = np.zeros((x.shape[0], x.shape[1]))\n",
    "for i in range(len(x[0])):\n",
    "    x_minmax[:,i] = prepro(x[:,i], 'minmax')\n",
    "\n",
    "x_stand = np.zeros((x.shape[0], x.shape[1]))\n",
    "for i in range(len(x[0])):\n",
    "    x_stand[:,i] = prepro(x[:,i], 'stand')\n",
    "\n",
    "x_robust = np.zeros((x.shape[0], x.shape[1]))\n",
    "for i in range(len(x[0])):\n",
    "    x_robust[:,i] = prepro(x[:,i], 'robust')"
   ]
  },
  {
   "cell_type": "code",
   "execution_count": 26,
   "metadata": {
    "ExecuteTime": {
     "end_time": "2020-09-10T22:28:08.304883Z",
     "start_time": "2020-09-10T22:28:08.297906Z"
    }
   },
   "outputs": [
    {
     "name": "stdout",
     "output_type": "stream",
     "text": [
      "(522, 6) (522,)\n",
      "(58, 6) (58,)\n"
     ]
    }
   ],
   "source": [
    "x_train, x_test, y_train, y_test = train_test_split(x_robust, x_robust[:,3], test_size=0.1, shuffle=False)\n",
    "print(x_train.shape, y_train.shape)\n",
    "print(x_test.shape, y_test.shape)"
   ]
  },
  {
   "cell_type": "code",
   "execution_count": 24,
   "metadata": {
    "ExecuteTime": {
     "end_time": "2020-09-10T22:27:47.927452Z",
     "start_time": "2020-09-10T22:27:47.914925Z"
    }
   },
   "outputs": [],
   "source": [
    "# RandomForest\n",
    "def rf_model(data, label):\n",
    "    rf = RandomForestRegressor(n_estimators=100, criterion='mse', \n",
    "                               max_depth=None, random_state=3, \n",
    "                               min_samples_leaf=1, min_samples_split=2, \n",
    "                               min_impurity_split=None)\n",
    "    rf_fit = rf.fit(data, label)\n",
    "    #print(rf.feature_importances_)\n",
    "    Importance = pd.DataFrame({'Importance':rf.feature_importances_*100},\n",
    "                              index=['market','high','low','close','volume','ratio'])\n",
    "    plt.rc('font', size=8)\n",
    "    Importance.sort_values(by='Importance', axis=0,\n",
    "                           ascending=True).plot(kind='barh', color='r')\n",
    "    plt.title('Random forest')\n",
    "    plt.xlabel('Feature importance')\n",
    "    \n",
    "# AdaBoost\n",
    "def adabst_model(data, label):\n",
    "    adabst = AdaBoostRegressor(base_estimator=None, n_estimators=100, \n",
    "                               learning_rate=1.0, loss='linear', \n",
    "                               random_state=3)\n",
    "    adabst_fit = adabst.fit(data, label)\n",
    "    #print(adabst.feature_importances_)\n",
    "    Importance = pd.DataFrame({'Importance':adabst.feature_importances_*100}, \n",
    "                              index=['market','high','low','close','volume','ratio'])\n",
    "    plt.rc('font', size=8)\n",
    "    Importance.sort_values(by='Importance', axis=0,\n",
    "                           ascending=True).plot(kind='barh', color='r')\n",
    "    plt.title('Adaboost')\n",
    "    plt.xlabel('Feature importance')\n",
    "    \n",
    "# Xgboost\n",
    "def xgb_model(data, label):\n",
    "    xgb = XGBRegressor(n_estimators=100, random_state=3)\n",
    "    xgb_fit = xgb.fit(data, label)\n",
    "    #print(xgb.feature_importances_)\n",
    "    Importance = pd.DataFrame({'Importance':xgb.feature_importances_*100},\n",
    "                              index=['market','high','low','close','volume','ratio'])\n",
    "    Importance.sort_values(by='Importance', axis=0, \n",
    "                           ascending=True).plot(kind='barh', color='r')\n",
    "    plt.title('Xgboost')\n",
    "    plt.xlabel('Feature importance')\n",
    "    plt.rc('font', size=8)\n",
    "    \n",
    "# lightGBM\n",
    "def lgbm_model(data, label):\n",
    "    lgbm = LGBMRegressor(n_estimators=100, random_state=3)\n",
    "    lgbm_fit = lgbm.fit(data, label)\n",
    "    #print(lgbm.feature_importances_)\n",
    "    Importance = pd.DataFrame({'Importance':lgbm.feature_importances_},\n",
    "                              index=['market','high','low','close','volume','ratio'])\n",
    "    plt.rc('font', size=8)\n",
    "    Importance.sort_values(by='Importance', axis=0, \n",
    "                           ascending=True).plot(kind='barh', color='r')\n",
    "    plt.title('LightGBM')\n",
    "    plt.xlabel('Feature importance')"
   ]
  },
  {
   "cell_type": "code",
   "execution_count": 44,
   "metadata": {
    "ExecuteTime": {
     "end_time": "2020-09-10T22:44:52.217819Z",
     "start_time": "2020-09-10T22:44:51.332191Z"
    }
   },
   "outputs": [
    {
     "data": {
      "image/png": "[encoded data removed]",
      "text/plain": [
       "<Figure size 432x288 with 1 Axes>"
      ]
     },
     "metadata": {
      "needs_background": "light"
     },
     "output_type": "display_data"
    },
    {
     "data": {
      "image/png": "[encoded data removed]",
      "text/plain": [
       "<Figure size 432x288 with 1 Axes>"
      ]
     },
     "metadata": {
      "needs_background": "light"
     },
     "output_type": "display_data"
    },
    {
     "data": {
      "image/png": "[encoded data removed]",
      "text/plain": [
       "<Figure size 432x288 with 1 Axes>"
      ]
     },
     "metadata": {
      "needs_background": "light"
     },
     "output_type": "display_data"
    },
    {
     "data": {
      "image/png": "[encoded data removed]",
      "text/plain": [
       "<Figure size 432x288 with 1 Axes>"
      ]
     },
     "metadata": {
      "needs_background": "light"
     },
     "output_type": "display_data"
    }
   ],
   "source": [
    "rf_model(features, labels)\n",
    "adabst_model(features, labels)\n",
    "xgb_model(features, labels)\n",
    "lgbm_model(features, labels)"
   ]
  },
  {
   "cell_type": "code",
   "execution_count": 47,
   "metadata": {
    "ExecuteTime": {
     "end_time": "2020-09-10T22:52:54.379444Z",
     "start_time": "2020-09-10T22:52:54.372467Z"
    }
   },
   "outputs": [
    {
     "name": "stdout",
     "output_type": "stream",
     "text": [
      "[0.99999861 1.         1.         1.         1.         1.        ]\n",
      "1\n"
     ]
    }
   ],
   "source": [
    "# PCA\n",
    "pca = PCA()\n",
    "pca.fit(x)\n",
    "cumsum = np.cumsum(pca.explained_variance_ratio_)\n",
    "print(cumsum)\n",
    "\n",
    "n = np.argmax(cumsum >= 0.95) + 1\n",
    "print(n)\n",
    "\n",
    "def pca_(data, n):\n",
    "    pca = PCA(n_components=n)\n",
    "    x = data.copy()\n",
    "    w = pca.fit_transform(x)\n",
    "    return w"
   ]
  },
  {
   "cell_type": "code",
   "execution_count": 48,
   "metadata": {
    "ExecuteTime": {
     "end_time": "2020-09-10T22:52:55.883373Z",
     "start_time": "2020-09-10T22:52:55.859175Z"
    }
   },
   "outputs": [
    {
     "data": {
      "text/plain": [
       "(580, 2)"
      ]
     },
     "execution_count": 48,
     "metadata": {},
     "output_type": "execute_result"
    }
   ],
   "source": [
    "pca_data = pca_(x, 2)\n",
    "pca_data.shape"
   ]
  },
  {
   "cell_type": "code",
   "execution_count": 49,
   "metadata": {
    "ExecuteTime": {
     "end_time": "2020-09-10T22:54:30.701181Z",
     "start_time": "2020-09-10T22:54:30.694621Z"
    }
   },
   "outputs": [
    {
     "data": {
      "text/plain": [
       "array([[ 2.50118111e+07, -1.49841709e+03],\n",
       "       [ 8.55114132e+06,  4.80087440e+03],\n",
       "       [ 1.57472627e+06,  5.98820470e+03],\n",
       "       ...,\n",
       "       [ 1.69639449e+07,  1.23522435e+04],\n",
       "       [ 1.60438243e+07,  1.35640953e+04],\n",
       "       [ 1.53697193e+07,  1.60784424e+04]])"
      ]
     },
     "execution_count": 49,
     "metadata": {},
     "output_type": "execute_result"
    }
   ],
   "source": [
    "pca_data"
   ]
  },
  {
   "cell_type": "code",
   "execution_count": null,
   "metadata": {},
   "outputs": [],
   "source": []
  }
 ],
 "metadata": {
  "kernelspec": {
   "display_name": "Tensorflow",
   "language": "python",
   "name": "tensorflow"
  },
  "language_info": {
   "codemirror_mode": {
    "name": "ipython",
    "version": 3
   },
   "file_extension": ".py",
   "mimetype": "text/x-python",
   "name": "python",
   "nbconvert_exporter": "python",
   "pygments_lexer": "ipython3",
   "version": "3.7.6"
  }
 },
 "nbformat": 4,
 "nbformat_minor": 4
}
